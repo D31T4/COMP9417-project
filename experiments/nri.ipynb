{
 "cells": [
  {
   "cell_type": "code",
   "execution_count": null,
   "metadata": {},
   "outputs": [],
   "source": [
    "import sys\n",
    "IN_COLAB: bool = 'google.colab' in sys.modules\n",
    "COLAB_PREFIX = 'comp9417_proj'\n",
    "MODEL_OUT_DIR: str = 'models/out/nri'\n",
    "\n",
    "if not IN_COLAB:\n",
    "    %cd ..\n",
    "    \n",
    "    from models.nri import NRI, NRITrainingParams\n",
    "    from models.train import CheckpointParameters, train, resume\n",
    "    from experiments.helper import get_dataset\n",
    "\n",
    "    print('Notebook running in local env')\n",
    "else:\n",
    "    !git clone https://github.com/D31T4/COMP9417-project.git\n",
    "    !mv COMP9417-project {COLAB_PREFIX}\n",
    "\n",
    "    MODEL_OUT_DIR = f'{COLAB_PREFIX}/{MODEL_OUT_DIR}'\n",
    "    !mkdir {MODEL_OUT_DIR}\n",
    "    print('Notebook running in colab')\n",
    "\n",
    "    from comp9417_proj.data.preprocess import preprocess, DefaultInputDir, DefaultOutputDir\n",
    "    from comp9417_proj.models.nri import NRI, NRITrainingParams\n",
    "    from comp9417_proj.models.train import CheckpointParameters, train, resume\n",
    "    from comp9417_proj.experiments.helper import get_dataset\n",
    "\n",
    "    preprocess(f'{COLAB_PREFIX}/data/{DefaultInputDir}', f'{COLAB_PREFIX}/data/{DefaultOutputDir}')\n"
   ]
  },
  {
   "cell_type": "code",
   "execution_count": 2,
   "metadata": {},
   "outputs": [],
   "source": [
    "import torch\n",
    "\n",
    "train_set, val_set, test_set, adj_mat, edge_prior = get_dataset(IN_COLAB)\n",
    "\n",
    "checkpt = CheckpointParameters(MODEL_OUT_DIR, 1)\n",
    "train_params = NRITrainingParams(10)\n",
    "\n",
    "model = NRI(state_dim=6, prior_steps=50, hid_dim=64, adj_mat=adj_mat, do_prob=0.5)\n",
    "optimizer = torch.optim.Adam(list(model.parameters()), lr=5e-3)\n",
    "lr_scheduler = torch.optim.lr_scheduler.StepLR(optimizer, step_size=200, gamma=0.5)"
   ]
  },
  {
   "cell_type": "code",
   "execution_count": 3,
   "metadata": {},
   "outputs": [
    {
     "name": "stderr",
     "output_type": "stream",
     "text": [
      "[train] Epoch 0; NLL: 1.24E+02; KL: 1.90E+00: 100%|██████████| 538/538 [36:55<00:00,  4.12s/it]\n"
     ]
    },
    {
     "name": "stdout",
     "output_type": "stream",
     "text": [
      "[train] Epoch: 0000\n",
      "          NLL: 3334.0653662274\n",
      "           KL: 2.1264766348\n",
      "          MSE: 0.0011340358\n",
      "      Elapsed: 2215.5761s\n"
     ]
    },
    {
     "name": "stderr",
     "output_type": "stream",
     "text": [
      "[train] Epoch 0; NLL: 1.47E+03; KL: 1.24E+00: 100%|██████████| 176/176 [04:54<00:00,  1.68s/it]\n"
     ]
    },
    {
     "name": "stdout",
     "output_type": "stream",
     "text": [
      "[valid] Epoch: 0000\n",
      "          NLL: 1631.0477735346\n",
      "           KL: 1.8722662872\n",
      "          MSE: 0.0005547781\n",
      "      Elapsed: 2510.4371s\n"
     ]
    },
    {
     "name": "stderr",
     "output_type": "stream",
     "text": [
      "[train] Epoch 1; NLL: 9.22E+01; KL: 1.24E+00: 100%|██████████| 538/538 [36:17<00:00,  4.05s/it]\n"
     ]
    },
    {
     "name": "stdout",
     "output_type": "stream",
     "text": [
      "[train] Epoch: 0001\n",
      "          NLL: 117.4287809918\n",
      "           KL: 1.4961004423\n",
      "          MSE: 0.0000399418\n",
      "      Elapsed: 2177.2075s\n"
     ]
    },
    {
     "name": "stderr",
     "output_type": "stream",
     "text": [
      "[train] Epoch 1; NLL: 1.53E+03; KL: 1.12E+00: 100%|██████████| 176/176 [05:09<00:00,  1.76s/it]\n"
     ]
    },
    {
     "name": "stdout",
     "output_type": "stream",
     "text": [
      "[valid] Epoch: 0001\n",
      "          NLL: 1324.8493204984\n",
      "           KL: 1.0237590108\n",
      "          MSE: 0.0004506290\n",
      "      Elapsed: 2486.6350s\n"
     ]
    }
   ],
   "source": [
    "train(\n",
    "    model, \n",
    "    n_epoch=2, \n",
    "    datasets=(train_set, val_set, test_set), \n",
    "    edge_prior=edge_prior, \n",
    "    checkpoint_params=checkpt,\n",
    "    train_params=train_params\n",
    ")"
   ]
  }
 ],
 "metadata": {
  "kernelspec": {
   "display_name": "venv",
   "language": "python",
   "name": "python3"
  },
  "language_info": {
   "codemirror_mode": {
    "name": "ipython",
    "version": 3
   },
   "file_extension": ".py",
   "mimetype": "text/x-python",
   "name": "python",
   "nbconvert_exporter": "python",
   "pygments_lexer": "ipython3",
   "version": "3.9.13"
  },
  "orig_nbformat": 4
 },
 "nbformat": 4,
 "nbformat_minor": 2
}
