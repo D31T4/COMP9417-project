{
 "cells": [
  {
   "cell_type": "code",
   "execution_count": null,
   "metadata": {},
   "outputs": [],
   "source": [
    "import sys\n",
    "IN_COLAB: bool = 'google.colab' in sys.modules\n",
    "COLAB_PREFIX = 'comp9417_proj'\n",
    "MODEL_OUT_DIR: str = 'models/out/nri'\n",
    "CUDA: bool = False\n",
    "\n",
    "if not IN_COLAB:\n",
    "    %cd ..\n",
    "    \n",
    "    from models.nri import NRI, NRITrainingParams\n",
    "    from models.train import CheckpointParameters, train, resume\n",
    "    from experiments.helper import get_dataset\n",
    "\n",
    "    print('Notebook running in local env')\n",
    "else:\n",
    "    !git clone https://github.com/D31T4/COMP9417-project.git\n",
    "    !mv COMP9417-project {COLAB_PREFIX}\n",
    "\n",
    "    MODEL_OUT_DIR = f'{COLAB_PREFIX}/{MODEL_OUT_DIR}'\n",
    "    !mkdir {COLAB_PREFIX}/models/out\n",
    "    !mkdir {MODEL_OUT_DIR}\n",
    "    print('Notebook running in colab')\n",
    "\n",
    "    sys.path.insert(0, COLAB_PREFIX)\n",
    "    from comp9417_proj.data.preprocess import preprocess, DefaultInputDir, DefaultOutputDir\n",
    "    from comp9417_proj.models.nri import NRI, NRITrainingParams\n",
    "    from comp9417_proj.models.train import CheckpointParameters, train, resume\n",
    "    from comp9417_proj.experiments.helper import get_dataset\n",
    "\n",
    "    preprocess(f'{COLAB_PREFIX}/data/{DefaultInputDir}', f'{COLAB_PREFIX}/data/{DefaultOutputDir}')\n"
   ]
  },
  {
   "cell_type": "code",
   "execution_count": null,
   "metadata": {},
   "outputs": [],
   "source": [
    "import torch\n",
    "\n",
    "train_set, val_set, test_set, adj_mat, edge_prior = get_dataset(IN_COLAB)\n",
    "\n",
    "checkpt = CheckpointParameters(MODEL_OUT_DIR, 1)\n",
    "\n",
    "if IN_COLAB:\n",
    "    from google.colab import files\n",
    "\n",
    "    def onCheckpoint(prefix: str):\n",
    "        files.download(f'{prefix}.loss.npy')\n",
    "        files.download(f'{prefix}.lr.pt')\n",
    "        files.download(f'{prefix}.optim.pt')\n",
    "        files.download(f'{prefix}.model.pt')\n",
    "\n",
    "    checkpt.onCheckpoint = onCheckpoint # comment this line to disable backup\n",
    "\n",
    "train_params = NRITrainingParams(10)\n",
    "\n",
    "model = NRI(state_dim=6, prior_steps=50, hid_dim=128, adj_mat=adj_mat, do_prob=0.5)\n",
    "optimizer = torch.optim.Adam(list(model.parameters()), lr=5e-3)\n",
    "lr_scheduler = torch.optim.lr_scheduler.StepLR(optimizer, step_size=200, gamma=0.5)\n",
    "\n",
    "if CUDA:\n",
    "    model.cuda()\n",
    "    edge_prior = edge_prior.cuda()"
   ]
  },
  {
   "cell_type": "code",
   "execution_count": null,
   "metadata": {},
   "outputs": [],
   "source": [
    "train(\n",
    "    model, \n",
    "    n_epoch=30, \n",
    "    datasets=(train_set, val_set, test_set), \n",
    "    edge_prior=edge_prior, \n",
    "    checkpoint_params=checkpt,\n",
    "    train_params=train_params\n",
    ")"
   ]
  },
  {
   "cell_type": "code",
   "execution_count": null,
   "metadata": {},
   "outputs": [],
   "source": [
    "MODEL_OUT_DIR = 'models/out/grand_colab'\n",
    "\n",
    "import numpy as np\n",
    "stats = np.load(f'{MODEL_OUT_DIR}/checkpt_15.loss.npy', allow_pickle=True).item()\n",
    "print(stats['valid_nll'])\n",
    "print(stats['train_nll'])"
   ]
  },
  {
   "cell_type": "code",
   "execution_count": null,
   "metadata": {},
   "outputs": [],
   "source": [
    "MODEL_OUT_DIR = 'models/out/nri_colab'\n",
    "\n",
    "import numpy as np\n",
    "stats = np.load(f'{MODEL_OUT_DIR}/checkpt_20.loss.npy', allow_pickle=True).item()\n",
    "print(stats['valid_nll'])\n",
    "print(stats['train_nll'])\n",
    "print(stats['valid_mse'])\n",
    "\n",
    "print(stats['valid_kl'])\n",
    "print(stats['train_kl'])"
   ]
  }
 ],
 "metadata": {
  "kernelspec": {
   "display_name": "venv",
   "language": "python",
   "name": "python3"
  },
  "language_info": {
   "codemirror_mode": {
    "name": "ipython",
    "version": 3
   },
   "file_extension": ".py",
   "mimetype": "text/x-python",
   "name": "python",
   "nbconvert_exporter": "python",
   "pygments_lexer": "ipython3",
   "version": "3.9.13"
  },
  "orig_nbformat": 4
 },
 "nbformat": 4,
 "nbformat_minor": 2
}
